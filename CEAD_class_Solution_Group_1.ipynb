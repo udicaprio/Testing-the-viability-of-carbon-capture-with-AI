{
  "cells": [
    {
      "cell_type": "markdown",
      "metadata": {},
      "source": [
        "***IMPORTANT***: This .ipynb notebook and the `utils.py` file must be in the same folder to let the code contained in this notebook work"
      ]
    },
    {
      "cell_type": "code",
      "execution_count": 2,
      "metadata": {
        "id": "KbZJLzgJLp1z"
      },
      "outputs": [],
      "source": [
        "import numpy as np\n",
        "import pandas as pd"
      ]
    },
    {
      "cell_type": "markdown",
      "metadata": {
        "id": "wdt3h-_TYB6S"
      },
      "source": [
        "### Question 1: Prepare the data for the training"
      ]
    },
    {
      "cell_type": "markdown",
      "metadata": {
        "id": "ubhR6OpJYv15"
      },
      "source": [
        "First of all, let's load the dataset from the hard drive"
      ]
    },
    {
      "cell_type": "code",
      "execution_count": 3,
      "metadata": {
        "id": "8qKnNpa1XywE"
      },
      "outputs": [],
      "source": [
        "df = pd.read_csv('experimental_dataset_1.csv')"
      ]
    },
    {
      "cell_type": "markdown",
      "metadata": {
        "id": "YXbVhILjZePE"
      },
      "source": [
        "Let's now have a look to the data characteristics"
      ]
    },
    {
      "cell_type": "code",
      "execution_count": 4,
      "metadata": {
        "colab": {
          "base_uri": "https://localhost:8080/",
          "height": 300
        },
        "id": "AJQgbyTqZeD6",
        "outputId": "4736feb9-6d5e-419b-d29f-4a5e4bc242bc"
      },
      "outputs": [
        {
          "data": {
            "text/html": [
              "<div>\n",
              "<style scoped>\n",
              "    .dataframe tbody tr th:only-of-type {\n",
              "        vertical-align: middle;\n",
              "    }\n",
              "\n",
              "    .dataframe tbody tr th {\n",
              "        vertical-align: top;\n",
              "    }\n",
              "\n",
              "    .dataframe thead th {\n",
              "        text-align: right;\n",
              "    }\n",
              "</style>\n",
              "<table border=\"1\" class=\"dataframe\">\n",
              "  <thead>\n",
              "    <tr style=\"text-align: right;\">\n",
              "      <th></th>\n",
              "      <th>GFR</th>\n",
              "      <th>LFR</th>\n",
              "      <th>Temp</th>\n",
              "      <th>CO2alpha</th>\n",
              "      <th>CO2pp</th>\n",
              "      <th>Height</th>\n",
              "      <th>kGa</th>\n",
              "      <th>eta</th>\n",
              "    </tr>\n",
              "  </thead>\n",
              "  <tbody>\n",
              "    <tr>\n",
              "      <th>count</th>\n",
              "      <td>300.000000</td>\n",
              "      <td>300.000000</td>\n",
              "      <td>300.000000</td>\n",
              "      <td>300.000000</td>\n",
              "      <td>300.000000</td>\n",
              "      <td>300.000000</td>\n",
              "      <td>300.000000</td>\n",
              "      <td>300.000000</td>\n",
              "    </tr>\n",
              "    <tr>\n",
              "      <th>mean</th>\n",
              "      <td>549.959163</td>\n",
              "      <td>5.999780</td>\n",
              "      <td>59.998997</td>\n",
              "      <td>0.225013</td>\n",
              "      <td>10.498883</td>\n",
              "      <td>17.501333</td>\n",
              "      <td>0.843587</td>\n",
              "      <td>0.732183</td>\n",
              "    </tr>\n",
              "    <tr>\n",
              "      <th>std</th>\n",
              "      <td>260.195327</td>\n",
              "      <td>2.313533</td>\n",
              "      <td>11.567128</td>\n",
              "      <td>0.130139</td>\n",
              "      <td>5.493646</td>\n",
              "      <td>7.227118</td>\n",
              "      <td>0.597670</td>\n",
              "      <td>0.203815</td>\n",
              "    </tr>\n",
              "    <tr>\n",
              "      <th>min</th>\n",
              "      <td>101.380000</td>\n",
              "      <td>2.006000</td>\n",
              "      <td>40.097000</td>\n",
              "      <td>0.001000</td>\n",
              "      <td>1.030000</td>\n",
              "      <td>5.000000</td>\n",
              "      <td>0.016732</td>\n",
              "      <td>0.471522</td>\n",
              "    </tr>\n",
              "    <tr>\n",
              "      <th>25%</th>\n",
              "      <td>325.450250</td>\n",
              "      <td>4.001250</td>\n",
              "      <td>50.010250</td>\n",
              "      <td>0.112750</td>\n",
              "      <td>5.775750</td>\n",
              "      <td>11.275000</td>\n",
              "      <td>0.382686</td>\n",
              "      <td>0.533520</td>\n",
              "    </tr>\n",
              "    <tr>\n",
              "      <th>50%</th>\n",
              "      <td>550.323500</td>\n",
              "      <td>5.991500</td>\n",
              "      <td>59.968000</td>\n",
              "      <td>0.224500</td>\n",
              "      <td>10.505500</td>\n",
              "      <td>17.550000</td>\n",
              "      <td>0.722122</td>\n",
              "      <td>0.683904</td>\n",
              "    </tr>\n",
              "    <tr>\n",
              "      <th>75%</th>\n",
              "      <td>773.917500</td>\n",
              "      <td>8.003000</td>\n",
              "      <td>70.002500</td>\n",
              "      <td>0.336500</td>\n",
              "      <td>15.224750</td>\n",
              "      <td>23.725000</td>\n",
              "      <td>1.116179</td>\n",
              "      <td>0.967372</td>\n",
              "    </tr>\n",
              "    <tr>\n",
              "      <th>max</th>\n",
              "      <td>999.643000</td>\n",
              "      <td>9.985000</td>\n",
              "      <td>79.999000</td>\n",
              "      <td>0.449000</td>\n",
              "      <td>19.945000</td>\n",
              "      <td>29.900000</td>\n",
              "      <td>2.483268</td>\n",
              "      <td>1.000000</td>\n",
              "    </tr>\n",
              "  </tbody>\n",
              "</table>\n",
              "</div>"
            ],
            "text/plain": [
              "              GFR         LFR        Temp    CO2alpha       CO2pp      Height  \\\n",
              "count  300.000000  300.000000  300.000000  300.000000  300.000000  300.000000   \n",
              "mean   549.959163    5.999780   59.998997    0.225013   10.498883   17.501333   \n",
              "std    260.195327    2.313533   11.567128    0.130139    5.493646    7.227118   \n",
              "min    101.380000    2.006000   40.097000    0.001000    1.030000    5.000000   \n",
              "25%    325.450250    4.001250   50.010250    0.112750    5.775750   11.275000   \n",
              "50%    550.323500    5.991500   59.968000    0.224500   10.505500   17.550000   \n",
              "75%    773.917500    8.003000   70.002500    0.336500   15.224750   23.725000   \n",
              "max    999.643000    9.985000   79.999000    0.449000   19.945000   29.900000   \n",
              "\n",
              "              kGa         eta  \n",
              "count  300.000000  300.000000  \n",
              "mean     0.843587    0.732183  \n",
              "std      0.597670    0.203815  \n",
              "min      0.016732    0.471522  \n",
              "25%      0.382686    0.533520  \n",
              "50%      0.722122    0.683904  \n",
              "75%      1.116179    0.967372  \n",
              "max      2.483268    1.000000  "
            ]
          },
          "execution_count": 4,
          "metadata": {},
          "output_type": "execute_result"
        }
      ],
      "source": [
        "df.describe()"
      ]
    },
    {
      "cell_type": "markdown",
      "metadata": {
        "id": "45YBaAxcTxWV"
      },
      "source": [
        "Therefore, the dataset has 8 columns and each column has 300 datapoints. The dataset does not have any missing point.<p>\n",
        "Other important information can be obtained visualizing the data distribution"
      ]
    },
    {
      "cell_type": "code",
      "execution_count": 5,
      "metadata": {
        "colab": {
          "base_uri": "https://localhost:8080/",
          "height": 574
        },
        "id": "0ozmPz5hTkTq",
        "outputId": "894b3fbb-c067-46a1-b8fb-a0eb5340d6b9"
      },
      "outputs": [
        {
          "data": {
            "text/plain": [
              "array([[<Axes: title={'center': 'GFR'}>, <Axes: title={'center': 'LFR'}>,\n",
              "        <Axes: title={'center': 'Temp'}>],\n",
              "       [<Axes: title={'center': 'CO2alpha'}>,\n",
              "        <Axes: title={'center': 'CO2pp'}>,\n",
              "        <Axes: title={'center': 'Height'}>],\n",
              "       [<Axes: title={'center': 'kGa'}>, <Axes: title={'center': 'eta'}>,\n",
              "        <Axes: >]], dtype=object)"
            ]
          },
          "execution_count": 5,
          "metadata": {},
          "output_type": "execute_result"
        },
        {
          "data": {
            "image/png": "[encoded data removed]",
            "text/plain": [
              "<Figure size 640x480 with 9 Axes>"
            ]
          },
          "metadata": {},
          "output_type": "display_data"
        }
      ],
      "source": [
        "df.hist()"
      ]
    },
    {
      "cell_type": "markdown",
      "metadata": {
        "id": "Nem7rfpYY0o-"
      },
      "source": [
        "Following, let's select the input and the output of our model"
      ]
    },
    {
      "cell_type": "code",
      "execution_count": 6,
      "metadata": {
        "id": "I4cfPwCOYNc1"
      },
      "outputs": [],
      "source": [
        "X = df[['GFR', 'LFR', 'Temp', 'CO2alpha', 'CO2pp', 'Height']]\n",
        "Y = df[['kGa', 'eta']]\n",
        "\n",
        "X = X.to_numpy()\n",
        "Y = Y.to_numpy()"
      ]
    },
    {
      "cell_type": "markdown",
      "metadata": {
        "id": "QhRHX3ZRY4fm"
      },
      "source": [
        "After the input and the output have been selected, it is time to scale them to a common range because they have very different values. For example, the temperature is in the range 40-80 while the GFR is in the range 100-1000. This could affect the performance of the trained model.<p>\n",
        "For this reason, we standardize the data using method ``sklearn.preprocessing.StandardScaler``"
      ]
    },
    {
      "cell_type": "code",
      "execution_count": 7,
      "metadata": {
        "id": "7LQJeCmMYWzS"
      },
      "outputs": [],
      "source": [
        "from sklearn.preprocessing import StandardScaler\n",
        "Xscaler = StandardScaler()\n",
        "Yscaler = StandardScaler()\n",
        "\n",
        "Xsc = Xscaler.fit_transform(X)\n",
        "Ysc = Yscaler.fit_transform(Y)"
      ]
    },
    {
      "cell_type": "markdown",
      "metadata": {
        "id": "bnPcrU2CZjx-"
      },
      "source": [
        "### Question 2: Generation of a test set to evaluate the performance of the model"
      ]
    },
    {
      "cell_type": "markdown",
      "metadata": {
        "id": "Qz2N0Mu8Zxgf"
      },
      "source": [
        "The generation of a test set it is a very crucial step in the modelling pipeline. It saves a part of our data to evaluate the model performance. The data in the test set will not be used for the training.<br> This allows the designer to understand the model accuracy of the model on unseen cases, and to make decisions based on it.<p>\n",
        "There are various way of generating a test set, however the main ones are two:\n",
        "  * Random sampling: This apporach picks random values from our dataset and save them into a test set.\n",
        "  * Physics based: This apporach picks values to be included in the test set using the physics of the system. For example, choose all the points with the temperature within a certain-range to make the training blind on that data and, following, evaluate the performance on them.\n",
        "\n",
        "<p>\n",
        "For this exercise, we will use *random sampling* employing the function ``sklearn.model_selection.train_test_split`` and selecting 20% of the original dataset points to be included in the test set."
      ]
    },
    {
      "cell_type": "code",
      "execution_count": 8,
      "metadata": {
        "id": "6cJPSe7JYs-2"
      },
      "outputs": [],
      "source": [
        "from sklearn.model_selection import train_test_split\n",
        "\n",
        "Xtrain, Xtest, Ytrain, Ytest = train_test_split(Xsc, Ysc, test_size = 0.2, random_state = 0)"
      ]
    },
    {
      "cell_type": "markdown",
      "metadata": {
        "id": "Y5ku84qYcDqG"
      },
      "source": [
        "\n",
        "### Question 3: Train a model"
      ]
    },
    {
      "cell_type": "markdown",
      "metadata": {
        "id": "88oJ7JM7UK2i"
      },
      "source": [
        "We will train our model using Keras framework. It is a simple and robust framework to train and evaluate artificial neural networks.<p>\n",
        "The network will take as input the process variables and the column dimensions (6 input) and will return the transfer coefficient (K<sub>G</sub>a) and the absorption efficiency (2 output). Its will have 3 hidden layers, each of them having 10 nodes. Therefore, the network will look like the following figure<br>\n",
        "<center><img src=\"img/employed_ann.png\"/></center>\n"
      ]
    },
    {
      "cell_type": "markdown",
      "metadata": {},
      "source": [
        "The interal activation function will be ReLU and the output one will be linear.<br>\n",
        "To train the ANN we will use the [ADAM optimizer](https://arxiv.org/abs/1412.6980) and the mean squared error metric<br>\n",
        "$$\n",
        "MSE=\\frac{1}{N}\\cdot\\sum_{i=1}^{N} (Y_{i,exp} - y_{i,pred})^2\n",
        "$$\n",
        "The training will be executed with 500 epochs"
      ]
    },
    {
      "cell_type": "code",
      "execution_count": 9,
      "metadata": {
        "colab": {
          "base_uri": "https://localhost:8080/"
        },
        "id": "Ale2AsyKbV0r",
        "outputId": "7ac564ae-0112-4ce0-90dd-2a8f7976c67b"
      },
      "outputs": [
        {
          "name": "stdout",
          "output_type": "stream",
          "text": [
            "Epoch 1/500\n",
            "8/8 [==============================] - 1s 4ms/step - loss: 1.0533\n",
            "Epoch 2/500\n",
            "8/8 [==============================] - 0s 1ms/step - loss: 1.0308\n",
            "Epoch 3/500\n",
            "8/8 [==============================] - 0s 10ms/step - loss: 1.0139\n",
            "Epoch 4/500\n",
            "8/8 [==============================] - 0s 19ms/step - loss: 0.9992\n",
            "Epoch 5/500\n",
            "8/8 [==============================] - 0s 2ms/step - loss: 0.9846\n",
            "Epoch 6/500\n",
            "8/8 [==============================] - 0s 2ms/step - loss: 0.9702\n",
            "Epoch 7/500\n",
            "8/8 [==============================] - 0s 2ms/step - loss: 0.9574\n",
            "Epoch 8/500\n",
            "8/8 [==============================] - 0s 2ms/step - loss: 0.9433\n",
            "Epoch 9/500\n",
            "8/8 [==============================] - 0s 2ms/step - loss: 0.9291\n",
            "Epoch 10/500\n",
            "8/8 [==============================] - 0s 2ms/step - loss: 0.9147\n",
            "Epoch 11/500\n",
            "8/8 [==============================] - 0s 2ms/step - loss: 0.8996\n",
            "Epoch 12/500\n",
            "8/8 [==============================] - 0s 278us/step - loss: 0.8841\n",
            "Epoch 13/500\n",
            "8/8 [==============================] - 0s 2ms/step - loss: 0.8684\n",
            "Epoch 14/500\n",
            "8/8 [==============================] - 0s 2ms/step - loss: 0.8511\n",
            "Epoch 15/500\n",
            "8/8 [==============================] - 0s 2ms/step - loss: 0.8348\n",
            "Epoch 16/500\n",
            "8/8 [==============================] - 0s 1ms/step - loss: 0.8169\n",
            "Epoch 17/500\n",
            "8/8 [==============================] - 0s 2ms/step - loss: 0.7990\n",
            "Epoch 18/500\n",
            "8/8 [==============================] - 0s 2ms/step - loss: 0.7797\n",
            "Epoch 19/500\n",
            "8/8 [==============================] - 0s 2ms/step - loss: 0.7619\n",
            "Epoch 20/500\n",
            "8/8 [==============================] - 0s 2ms/step - loss: 0.7423\n",
            "Epoch 21/500\n",
            "8/8 [==============================] - 0s 2ms/step - loss: 0.7246\n",
            "Epoch 22/500\n",
            "8/8 [==============================] - 0s 38ms/step - loss: 0.7053\n",
            "Epoch 23/500\n",
            "8/8 [==============================] - 0s 2ms/step - loss: 0.6863\n",
            "Epoch 24/500\n",
            "8/8 [==============================] - 0s 2ms/step - loss: 0.6675\n",
            "Epoch 25/500\n",
            "8/8 [==============================] - 0s 2ms/step - loss: 0.6483\n",
            "Epoch 26/500\n",
            "8/8 [==============================] - 0s 2ms/step - loss: 0.6296\n",
            "Epoch 27/500\n",
            "8/8 [==============================] - 0s 2ms/step - loss: 0.6103\n",
            "Epoch 28/500\n",
            "8/8 [==============================] - 0s 2ms/step - loss: 0.5925\n",
            "Epoch 29/500\n",
            "8/8 [==============================] - 0s 2ms/step - loss: 0.5750\n",
            "Epoch 30/500\n",
            "8/8 [==============================] - 0s 2ms/step - loss: 0.5559\n",
            "Epoch 31/500\n",
            "8/8 [==============================] - 0s 2ms/step - loss: 0.5375\n",
            "Epoch 32/500\n",
            "8/8 [==============================] - 0s 2ms/step - loss: 0.5186\n",
            "Epoch 33/500\n",
            "8/8 [==============================] - 0s 2ms/step - loss: 0.4975\n",
            "Epoch 34/500\n",
            "8/8 [==============================] - 0s 2ms/step - loss: 0.4778\n",
            "Epoch 35/500\n",
            "8/8 [==============================] - 0s 2ms/step - loss: 0.4562\n",
            "Epoch 36/500\n",
            "8/8 [==============================] - 0s 2ms/step - loss: 0.4327\n",
            "Epoch 37/500\n",
            "8/8 [==============================] - 0s 2ms/step - loss: 0.4104\n",
            "Epoch 38/500\n",
            "8/8 [==============================] - 0s 2ms/step - loss: 0.3864\n",
            "Epoch 39/500\n",
            "8/8 [==============================] - 0s 2ms/step - loss: 0.3613\n",
            "Epoch 40/500\n",
            "8/8 [==============================] - 0s 39ms/step - loss: 0.3365\n",
            "Epoch 41/500\n",
            "8/8 [==============================] - 0s 2ms/step - loss: 0.3102\n",
            "Epoch 42/500\n",
            "8/8 [==============================] - 0s 2ms/step - loss: 0.2870\n",
            "Epoch 43/500\n",
            "8/8 [==============================] - 0s 1ms/step - loss: 0.2644\n",
            "Epoch 44/500\n",
            "8/8 [==============================] - 0s 1ms/step - loss: 0.2432\n",
            "Epoch 45/500\n",
            "8/8 [==============================] - 0s 2ms/step - loss: 0.2248\n",
            "Epoch 46/500\n",
            "8/8 [==============================] - 0s 2ms/step - loss: 0.2079\n",
            "Epoch 47/500\n",
            "8/8 [==============================] - 0s 2ms/step - loss: 0.1931\n",
            "Epoch 48/500\n",
            "8/8 [==============================] - 0s 2ms/step - loss: 0.1809\n",
            "Epoch 49/500\n",
            "8/8 [==============================] - 0s 1ms/step - loss: 0.1696\n",
            "Epoch 50/500\n",
            "8/8 [==============================] - 0s 2ms/step - loss: 0.1605\n",
            "Epoch 51/500\n",
            "8/8 [==============================] - 0s 2ms/step - loss: 0.1517\n",
            "Epoch 52/500\n",
            "8/8 [==============================] - 0s 2ms/step - loss: 0.1440\n",
            "Epoch 53/500\n",
            "8/8 [==============================] - 0s 2ms/step - loss: 0.1375\n",
            "Epoch 54/500\n",
            "8/8 [==============================] - 0s 2ms/step - loss: 0.1309\n",
            "Epoch 55/500\n",
            "8/8 [==============================] - 0s 2ms/step - loss: 0.1259\n",
            "Epoch 56/500\n",
            "8/8 [==============================] - 0s 2ms/step - loss: 0.1211\n",
            "Epoch 57/500\n",
            "8/8 [==============================] - 0s 2ms/step - loss: 0.1166\n",
            "Epoch 58/500\n",
            "8/8 [==============================] - 0s 38ms/step - loss: 0.1131\n",
            "Epoch 59/500\n",
            "8/8 [==============================] - 0s 2ms/step - loss: 0.1096\n",
            "Epoch 60/500\n",
            "8/8 [==============================] - 0s 2ms/step - loss: 0.1061\n",
            "Epoch 61/500\n",
            "8/8 [==============================] - 0s 2ms/step - loss: 0.1037\n",
            "Epoch 62/500\n",
            "8/8 [==============================] - 0s 2ms/step - loss: 0.1007\n",
            "Epoch 63/500\n",
            "8/8 [==============================] - 0s 2ms/step - loss: 0.0983\n",
            "Epoch 64/500\n",
            "8/8 [==============================] - 0s 2ms/step - loss: 0.0960\n",
            "Epoch 65/500\n",
            "8/8 [==============================] - 0s 2ms/step - loss: 0.0942\n",
            "Epoch 66/500\n",
            "8/8 [==============================] - 0s 2ms/step - loss: 0.0921\n",
            "Epoch 67/500\n",
            "8/8 [==============================] - 0s 2ms/step - loss: 0.0898\n",
            "Epoch 68/500\n",
            "8/8 [==============================] - 0s 2ms/step - loss: 0.0881\n",
            "Epoch 69/500\n",
            "8/8 [==============================] - 0s 3ms/step - loss: 0.0876\n",
            "Epoch 70/500\n",
            "8/8 [==============================] - 0s 2ms/step - loss: 0.0850\n",
            "Epoch 71/500\n",
            "8/8 [==============================] - 0s 2ms/step - loss: 0.0839\n",
            "Epoch 72/500\n",
            "8/8 [==============================] - 0s 2ms/step - loss: 0.0821\n",
            "Epoch 73/500\n",
            "8/8 [==============================] - 0s 2ms/step - loss: 0.0808\n",
            "Epoch 74/500\n",
            "8/8 [==============================] - 0s 2ms/step - loss: 0.0792\n",
            "Epoch 75/500\n",
            "8/8 [==============================] - 0s 2ms/step - loss: 0.0787\n",
            "Epoch 76/500\n",
            "8/8 [==============================] - 0s 39ms/step - loss: 0.0775\n",
            "Epoch 77/500\n",
            "8/8 [==============================] - 0s 2ms/step - loss: 0.0762\n",
            "Epoch 78/500\n",
            "8/8 [==============================] - 0s 2ms/step - loss: 0.0747\n",
            "Epoch 79/500\n",
            "8/8 [==============================] - 0s 2ms/step - loss: 0.0739\n",
            "Epoch 80/500\n",
            "8/8 [==============================] - 0s 2ms/step - loss: 0.0727\n",
            "Epoch 81/500\n",
            "8/8 [==============================] - 0s 2ms/step - loss: 0.0719\n",
            "Epoch 82/500\n",
            "8/8 [==============================] - 0s 2ms/step - loss: 0.0709\n",
            "Epoch 83/500\n",
            "8/8 [==============================] - 0s 2ms/step - loss: 0.0700\n",
            "Epoch 84/500\n",
            "8/8 [==============================] - 0s 2ms/step - loss: 0.0693\n",
            "Epoch 85/500\n",
            "8/8 [==============================] - 0s 2ms/step - loss: 0.0685\n",
            "Epoch 86/500\n",
            "8/8 [==============================] - 0s 2ms/step - loss: 0.0675\n",
            "Epoch 87/500\n",
            "8/8 [==============================] - 0s 2ms/step - loss: 0.0666\n",
            "Epoch 88/500\n",
            "8/8 [==============================] - 0s 2ms/step - loss: 0.0660\n",
            "Epoch 89/500\n",
            "8/8 [==============================] - 0s 2ms/step - loss: 0.0650\n",
            "Epoch 90/500\n",
            "8/8 [==============================] - 0s 2ms/step - loss: 0.0646\n",
            "Epoch 91/500\n",
            "8/8 [==============================] - 0s 2ms/step - loss: 0.0635\n",
            "Epoch 92/500\n",
            "8/8 [==============================] - 0s 2ms/step - loss: 0.0632\n",
            "Epoch 93/500\n",
            "8/8 [==============================] - 0s 2ms/step - loss: 0.0619\n",
            "Epoch 94/500\n",
            "8/8 [==============================] - 0s 2ms/step - loss: 0.0619\n",
            "Epoch 95/500\n",
            "8/8 [==============================] - 0s 11ms/step - loss: 0.0608\n",
            "Epoch 96/500\n",
            "8/8 [==============================] - 0s 2ms/step - loss: 0.0601\n",
            "Epoch 97/500\n",
            "8/8 [==============================] - 0s 1ms/step - loss: 0.0597\n",
            "Epoch 98/500\n",
            "8/8 [==============================] - 0s 2ms/step - loss: 0.0589\n",
            "Epoch 99/500\n",
            "8/8 [==============================] - 0s 2ms/step - loss: 0.0584\n",
            "Epoch 100/500\n",
            "8/8 [==============================] - 0s 2ms/step - loss: 0.0578\n",
            "Epoch 101/500\n",
            "8/8 [==============================] - 0s 2ms/step - loss: 0.0574\n",
            "Epoch 102/500\n",
            "8/8 [==============================] - 0s 2ms/step - loss: 0.0569\n",
            "Epoch 103/500\n",
            "8/8 [==============================] - 0s 2ms/step - loss: 0.0564\n",
            "Epoch 104/500\n",
            "8/8 [==============================] - 0s 2ms/step - loss: 0.0559\n",
            "Epoch 105/500\n",
            "8/8 [==============================] - 0s 2ms/step - loss: 0.0554\n",
            "Epoch 106/500\n",
            "8/8 [==============================] - 0s 2ms/step - loss: 0.0548\n",
            "Epoch 107/500\n",
            "8/8 [==============================] - 0s 2ms/step - loss: 0.0546\n",
            "Epoch 108/500\n",
            "8/8 [==============================] - 0s 2ms/step - loss: 0.0541\n",
            "Epoch 109/500\n",
            "8/8 [==============================] - 0s 2ms/step - loss: 0.0539\n",
            "Epoch 110/500\n",
            "8/8 [==============================] - 0s 2ms/step - loss: 0.0534\n",
            "Epoch 111/500\n",
            "8/8 [==============================] - 0s 2ms/step - loss: 0.0529\n",
            "Epoch 112/500\n",
            "8/8 [==============================] - 0s 2ms/step - loss: 0.0522\n",
            "Epoch 113/500\n",
            "8/8 [==============================] - 0s 38ms/step - loss: 0.0521\n",
            "Epoch 114/500\n",
            "8/8 [==============================] - 0s 2ms/step - loss: 0.0514\n",
            "Epoch 115/500\n",
            "8/8 [==============================] - 0s 2ms/step - loss: 0.0512\n",
            "Epoch 116/500\n",
            "8/8 [==============================] - 0s 2ms/step - loss: 0.0508\n",
            "Epoch 117/500\n",
            "8/8 [==============================] - 0s 2ms/step - loss: 0.0503\n",
            "Epoch 118/500\n",
            "8/8 [==============================] - 0s 2ms/step - loss: 0.0500\n",
            "Epoch 119/500\n",
            "8/8 [==============================] - 0s 2ms/step - loss: 0.0496\n",
            "Epoch 120/500\n",
            "8/8 [==============================] - 0s 2ms/step - loss: 0.0492\n",
            "Epoch 121/500\n",
            "8/8 [==============================] - 0s 2ms/step - loss: 0.0489\n",
            "Epoch 122/500\n",
            "8/8 [==============================] - 0s 2ms/step - loss: 0.0487\n",
            "Epoch 123/500\n",
            "8/8 [==============================] - 0s 2ms/step - loss: 0.0483\n",
            "Epoch 124/500\n",
            "8/8 [==============================] - 0s 2ms/step - loss: 0.0479\n",
            "Epoch 125/500\n",
            "8/8 [==============================] - 0s 2ms/step - loss: 0.0478\n",
            "Epoch 126/500\n",
            "8/8 [==============================] - 0s 2ms/step - loss: 0.0478\n",
            "Epoch 127/500\n",
            "8/8 [==============================] - 0s 2ms/step - loss: 0.0476\n",
            "Epoch 128/500\n",
            "8/8 [==============================] - 0s 2ms/step - loss: 0.0468\n",
            "Epoch 129/500\n",
            "8/8 [==============================] - 0s 2ms/step - loss: 0.0465\n",
            "Epoch 130/500\n",
            "8/8 [==============================] - 0s 2ms/step - loss: 0.0462\n",
            "Epoch 131/500\n",
            "8/8 [==============================] - 0s 2ms/step - loss: 0.0459\n",
            "Epoch 132/500\n",
            "8/8 [==============================] - 0s 38ms/step - loss: 0.0458\n",
            "Epoch 133/500\n",
            "8/8 [==============================] - 0s 2ms/step - loss: 0.0453\n",
            "Epoch 134/500\n",
            "8/8 [==============================] - 0s 2ms/step - loss: 0.0453\n",
            "Epoch 135/500\n",
            "8/8 [==============================] - 0s 2ms/step - loss: 0.0446\n",
            "Epoch 136/500\n",
            "8/8 [==============================] - 0s 2ms/step - loss: 0.0447\n",
            "Epoch 137/500\n",
            "8/8 [==============================] - 0s 2ms/step - loss: 0.0445\n",
            "Epoch 138/500\n",
            "8/8 [==============================] - 0s 2ms/step - loss: 0.0439\n",
            "Epoch 139/500\n",
            "8/8 [==============================] - 0s 2ms/step - loss: 0.0440\n",
            "Epoch 140/500\n",
            "8/8 [==============================] - 0s 2ms/step - loss: 0.0432\n",
            "Epoch 141/500\n",
            "8/8 [==============================] - 0s 2ms/step - loss: 0.0434\n",
            "Epoch 142/500\n",
            "8/8 [==============================] - 0s 2ms/step - loss: 0.0430\n",
            "Epoch 143/500\n",
            "8/8 [==============================] - 0s 2ms/step - loss: 0.0428\n",
            "Epoch 144/500\n",
            "8/8 [==============================] - 0s 2ms/step - loss: 0.0427\n",
            "Epoch 145/500\n",
            "8/8 [==============================] - 0s 2ms/step - loss: 0.0422\n",
            "Epoch 146/500\n",
            "8/8 [==============================] - 0s 2ms/step - loss: 0.0423\n",
            "Epoch 147/500\n",
            "8/8 [==============================] - 0s 2ms/step - loss: 0.0418\n",
            "Epoch 148/500\n",
            "8/8 [==============================] - 0s 2ms/step - loss: 0.0420\n",
            "Epoch 149/500\n",
            "8/8 [==============================] - 0s 2ms/step - loss: 0.0412\n",
            "Epoch 150/500\n",
            "8/8 [==============================] - 0s 2ms/step - loss: 0.0413\n",
            "Epoch 151/500\n",
            "8/8 [==============================] - 0s 38ms/step - loss: 0.0409\n",
            "Epoch 152/500\n",
            "8/8 [==============================] - 0s 2ms/step - loss: 0.0408\n",
            "Epoch 153/500\n",
            "8/8 [==============================] - 0s 2ms/step - loss: 0.0407\n",
            "Epoch 154/500\n",
            "8/8 [==============================] - 0s 2ms/step - loss: 0.0401\n",
            "Epoch 155/500\n",
            "8/8 [==============================] - 0s 2ms/step - loss: 0.0403\n",
            "Epoch 156/500\n",
            "8/8 [==============================] - 0s 2ms/step - loss: 0.0401\n",
            "Epoch 157/500\n",
            "8/8 [==============================] - 0s 2ms/step - loss: 0.0397\n",
            "Epoch 158/500\n",
            "8/8 [==============================] - 0s 2ms/step - loss: 0.0394\n",
            "Epoch 159/500\n",
            "8/8 [==============================] - 0s 2ms/step - loss: 0.0393\n",
            "Epoch 160/500\n",
            "8/8 [==============================] - 0s 2ms/step - loss: 0.0392\n",
            "Epoch 161/500\n",
            "8/8 [==============================] - 0s 2ms/step - loss: 0.0391\n",
            "Epoch 162/500\n",
            "8/8 [==============================] - 0s 2ms/step - loss: 0.0386\n",
            "Epoch 163/500\n",
            "8/8 [==============================] - 0s 2ms/step - loss: 0.0386\n",
            "Epoch 164/500\n",
            "8/8 [==============================] - 0s 2ms/step - loss: 0.0383\n",
            "Epoch 165/500\n",
            "8/8 [==============================] - 0s 2ms/step - loss: 0.0383\n",
            "Epoch 166/500\n",
            "8/8 [==============================] - 0s 2ms/step - loss: 0.0380\n",
            "Epoch 167/500\n",
            "8/8 [==============================] - 0s 2ms/step - loss: 0.0378\n",
            "Epoch 168/500\n",
            "8/8 [==============================] - 0s 2ms/step - loss: 0.0377\n",
            "Epoch 169/500\n",
            "8/8 [==============================] - 0s 2ms/step - loss: 0.0374\n",
            "Epoch 170/500\n",
            "8/8 [==============================] - 0s 2ms/step - loss: 0.0374\n",
            "Epoch 171/500\n",
            "8/8 [==============================] - 0s 33ms/step - loss: 0.0374\n",
            "Epoch 172/500\n",
            "8/8 [==============================] - 0s 2ms/step - loss: 0.0371\n",
            "Epoch 173/500\n",
            "8/8 [==============================] - 0s 2ms/step - loss: 0.0371\n",
            "Epoch 174/500\n",
            "8/8 [==============================] - 0s 2ms/step - loss: 0.0368\n",
            "Epoch 175/500\n",
            "8/8 [==============================] - 0s 2ms/step - loss: 0.0364\n",
            "Epoch 176/500\n",
            "8/8 [==============================] - 0s 2ms/step - loss: 0.0362\n",
            "Epoch 177/500\n",
            "8/8 [==============================] - 0s 2ms/step - loss: 0.0361\n",
            "Epoch 178/500\n",
            "8/8 [==============================] - 0s 2ms/step - loss: 0.0358\n",
            "Epoch 179/500\n",
            "8/8 [==============================] - 0s 2ms/step - loss: 0.0359\n",
            "Epoch 180/500\n",
            "8/8 [==============================] - 0s 2ms/step - loss: 0.0357\n",
            "Epoch 181/500\n",
            "8/8 [==============================] - 0s 2ms/step - loss: 0.0354\n",
            "Epoch 182/500\n",
            "8/8 [==============================] - 0s 2ms/step - loss: 0.0352\n",
            "Epoch 183/500\n",
            "8/8 [==============================] - 0s 2ms/step - loss: 0.0351\n",
            "Epoch 184/500\n",
            "8/8 [==============================] - 0s 2ms/step - loss: 0.0351\n",
            "Epoch 185/500\n",
            "8/8 [==============================] - 0s 2ms/step - loss: 0.0347\n",
            "Epoch 186/500\n",
            "8/8 [==============================] - 0s 2ms/step - loss: 0.0346\n",
            "Epoch 187/500\n",
            "8/8 [==============================] - 0s 2ms/step - loss: 0.0345\n",
            "Epoch 188/500\n",
            "8/8 [==============================] - 0s 2ms/step - loss: 0.0341\n",
            "Epoch 189/500\n",
            "8/8 [==============================] - 0s 2ms/step - loss: 0.0341\n",
            "Epoch 190/500\n",
            "8/8 [==============================] - 0s 37ms/step - loss: 0.0339\n",
            "Epoch 191/500\n",
            "8/8 [==============================] - 0s 2ms/step - loss: 0.0340\n",
            "Epoch 192/500\n",
            "8/8 [==============================] - 0s 2ms/step - loss: 0.0333\n",
            "Epoch 193/500\n",
            "8/8 [==============================] - 0s 2ms/step - loss: 0.0336\n",
            "Epoch 194/500\n",
            "8/8 [==============================] - 0s 2ms/step - loss: 0.0333\n",
            "Epoch 195/500\n",
            "8/8 [==============================] - 0s 2ms/step - loss: 0.0329\n",
            "Epoch 196/500\n",
            "8/8 [==============================] - 0s 2ms/step - loss: 0.0328\n",
            "Epoch 197/500\n",
            "8/8 [==============================] - 0s 2ms/step - loss: 0.0325\n",
            "Epoch 198/500\n",
            "8/8 [==============================] - 0s 2ms/step - loss: 0.0325\n",
            "Epoch 199/500\n",
            "8/8 [==============================] - 0s 2ms/step - loss: 0.0324\n",
            "Epoch 200/500\n",
            "8/8 [==============================] - 0s 2ms/step - loss: 0.0322\n",
            "Epoch 201/500\n",
            "8/8 [==============================] - 0s 2ms/step - loss: 0.0320\n",
            "Epoch 202/500\n",
            "8/8 [==============================] - 0s 2ms/step - loss: 0.0319\n",
            "Epoch 203/500\n",
            "8/8 [==============================] - 0s 2ms/step - loss: 0.0319\n",
            "Epoch 204/500\n",
            "8/8 [==============================] - 0s 2ms/step - loss: 0.0316\n",
            "Epoch 205/500\n",
            "8/8 [==============================] - 0s 2ms/step - loss: 0.0317\n",
            "Epoch 206/500\n",
            "8/8 [==============================] - 0s 2ms/step - loss: 0.0315\n",
            "Epoch 207/500\n",
            "8/8 [==============================] - 0s 2ms/step - loss: 0.0314\n",
            "Epoch 208/500\n",
            "8/8 [==============================] - 0s 2ms/step - loss: 0.0311\n",
            "Epoch 209/500\n",
            "8/8 [==============================] - 0s 38ms/step - loss: 0.0308\n",
            "Epoch 210/500\n",
            "8/8 [==============================] - 0s 2ms/step - loss: 0.0308\n",
            "Epoch 211/500\n",
            "8/8 [==============================] - 0s 2ms/step - loss: 0.0306\n",
            "Epoch 212/500\n",
            "8/8 [==============================] - 0s 2ms/step - loss: 0.0306\n",
            "Epoch 213/500\n",
            "8/8 [==============================] - 0s 2ms/step - loss: 0.0305\n",
            "Epoch 214/500\n",
            "8/8 [==============================] - 0s 2ms/step - loss: 0.0303\n",
            "Epoch 215/500\n",
            "8/8 [==============================] - 0s 2ms/step - loss: 0.0300\n",
            "Epoch 216/500\n",
            "8/8 [==============================] - 0s 2ms/step - loss: 0.0301\n",
            "Epoch 217/500\n",
            "8/8 [==============================] - 0s 2ms/step - loss: 0.0299\n",
            "Epoch 218/500\n",
            "8/8 [==============================] - 0s 2ms/step - loss: 0.0299\n",
            "Epoch 219/500\n",
            "8/8 [==============================] - 0s 2ms/step - loss: 0.0297\n",
            "Epoch 220/500\n",
            "8/8 [==============================] - 0s 2ms/step - loss: 0.0297\n",
            "Epoch 221/500\n",
            "8/8 [==============================] - 0s 2ms/step - loss: 0.0298\n",
            "Epoch 222/500\n",
            "8/8 [==============================] - 0s 2ms/step - loss: 0.0292\n",
            "Epoch 223/500\n",
            "8/8 [==============================] - 0s 2ms/step - loss: 0.0293\n",
            "Epoch 224/500\n",
            "8/8 [==============================] - 0s 2ms/step - loss: 0.0292\n",
            "Epoch 225/500\n",
            "8/8 [==============================] - 0s 2ms/step - loss: 0.0289\n",
            "Epoch 226/500\n",
            "8/8 [==============================] - 0s 2ms/step - loss: 0.0288\n",
            "Epoch 227/500\n",
            "8/8 [==============================] - 0s 39ms/step - loss: 0.0286\n",
            "Epoch 228/500\n",
            "8/8 [==============================] - 0s 2ms/step - loss: 0.0287\n",
            "Epoch 229/500\n",
            "8/8 [==============================] - 0s 2ms/step - loss: 0.0286\n",
            "Epoch 230/500\n",
            "8/8 [==============================] - 0s 2ms/step - loss: 0.0287\n",
            "Epoch 231/500\n",
            "8/8 [==============================] - 0s 3ms/step - loss: 0.0285\n",
            "Epoch 232/500\n",
            "8/8 [==============================] - 0s 2ms/step - loss: 0.0284\n",
            "Epoch 233/500\n",
            "8/8 [==============================] - 0s 2ms/step - loss: 0.0280\n",
            "Epoch 234/500\n",
            "8/8 [==============================] - 0s 2ms/step - loss: 0.0280\n",
            "Epoch 235/500\n",
            "8/8 [==============================] - 0s 2ms/step - loss: 0.0278\n",
            "Epoch 236/500\n",
            "8/8 [==============================] - 0s 2ms/step - loss: 0.0278\n",
            "Epoch 237/500\n",
            "8/8 [==============================] - 0s 2ms/step - loss: 0.0274\n",
            "Epoch 238/500\n",
            "8/8 [==============================] - 0s 2ms/step - loss: 0.0278\n",
            "Epoch 239/500\n",
            "8/8 [==============================] - 0s 2ms/step - loss: 0.0275\n",
            "Epoch 240/500\n",
            "8/8 [==============================] - 0s 2ms/step - loss: 0.0276\n",
            "Epoch 241/500\n",
            "8/8 [==============================] - 0s 2ms/step - loss: 0.0274\n",
            "Epoch 242/500\n",
            "8/8 [==============================] - 0s 2ms/step - loss: 0.0270\n",
            "Epoch 243/500\n",
            "8/8 [==============================] - 0s 2ms/step - loss: 0.0269\n",
            "Epoch 244/500\n",
            "8/8 [==============================] - 0s 2ms/step - loss: 0.0271\n",
            "Epoch 245/500\n",
            "8/8 [==============================] - 0s 37ms/step - loss: 0.0273\n",
            "Epoch 246/500\n",
            "8/8 [==============================] - 0s 2ms/step - loss: 0.0269\n",
            "Epoch 247/500\n",
            "8/8 [==============================] - 0s 2ms/step - loss: 0.0270\n",
            "Epoch 248/500\n",
            "8/8 [==============================] - 0s 2ms/step - loss: 0.0266\n",
            "Epoch 249/500\n",
            "8/8 [==============================] - 0s 2ms/step - loss: 0.0265\n",
            "Epoch 250/500\n",
            "8/8 [==============================] - 0s 2ms/step - loss: 0.0263\n",
            "Epoch 251/500\n",
            "8/8 [==============================] - 0s 2ms/step - loss: 0.0261\n",
            "Epoch 252/500\n",
            "8/8 [==============================] - 0s 2ms/step - loss: 0.0264\n",
            "Epoch 253/500\n",
            "8/8 [==============================] - 0s 2ms/step - loss: 0.0263\n",
            "Epoch 254/500\n",
            "8/8 [==============================] - 0s 2ms/step - loss: 0.0259\n",
            "Epoch 255/500\n",
            "8/8 [==============================] - 0s 2ms/step - loss: 0.0260\n",
            "Epoch 256/500\n",
            "8/8 [==============================] - 0s 2ms/step - loss: 0.0259\n",
            "Epoch 257/500\n",
            "8/8 [==============================] - 0s 2ms/step - loss: 0.0258\n",
            "Epoch 258/500\n",
            "8/8 [==============================] - 0s 2ms/step - loss: 0.0258\n",
            "Epoch 259/500\n",
            "8/8 [==============================] - 0s 2ms/step - loss: 0.0254\n",
            "Epoch 260/500\n",
            "8/8 [==============================] - 0s 2ms/step - loss: 0.0255\n",
            "Epoch 261/500\n",
            "8/8 [==============================] - 0s 2ms/step - loss: 0.0253\n",
            "Epoch 262/500\n",
            "8/8 [==============================] - 0s 2ms/step - loss: 0.0251\n",
            "Epoch 263/500\n",
            "8/8 [==============================] - 0s 2ms/step - loss: 0.0253\n",
            "Epoch 264/500\n",
            "8/8 [==============================] - 0s 32ms/step - loss: 0.0249\n",
            "Epoch 265/500\n",
            "8/8 [==============================] - 0s 1ms/step - loss: 0.0250\n",
            "Epoch 266/500\n",
            "8/8 [==============================] - 0s 2ms/step - loss: 0.0251\n",
            "Epoch 267/500\n",
            "8/8 [==============================] - 0s 2ms/step - loss: 0.0247\n",
            "Epoch 268/500\n",
            "8/8 [==============================] - 0s 2ms/step - loss: 0.0246\n",
            "Epoch 269/500\n",
            "8/8 [==============================] - 0s 2ms/step - loss: 0.0244\n",
            "Epoch 270/500\n",
            "8/8 [==============================] - 0s 2ms/step - loss: 0.0245\n",
            "Epoch 271/500\n",
            "8/8 [==============================] - 0s 2ms/step - loss: 0.0244\n",
            "Epoch 272/500\n",
            "8/8 [==============================] - 0s 2ms/step - loss: 0.0243\n",
            "Epoch 273/500\n",
            "8/8 [==============================] - 0s 2ms/step - loss: 0.0245\n",
            "Epoch 274/500\n",
            "8/8 [==============================] - 0s 2ms/step - loss: 0.0242\n",
            "Epoch 275/500\n",
            "8/8 [==============================] - 0s 2ms/step - loss: 0.0242\n",
            "Epoch 276/500\n",
            "8/8 [==============================] - 0s 2ms/step - loss: 0.0241\n",
            "Epoch 277/500\n",
            "8/8 [==============================] - 0s 2ms/step - loss: 0.0241\n",
            "Epoch 278/500\n",
            "8/8 [==============================] - 0s 2ms/step - loss: 0.0240\n",
            "Epoch 279/500\n",
            "8/8 [==============================] - 0s 2ms/step - loss: 0.0238\n",
            "Epoch 280/500\n",
            "8/8 [==============================] - 0s 2ms/step - loss: 0.0235\n",
            "Epoch 281/500\n",
            "8/8 [==============================] - 0s 2ms/step - loss: 0.0234\n",
            "Epoch 282/500\n",
            "8/8 [==============================] - 0s 2ms/step - loss: 0.0234\n",
            "Epoch 283/500\n",
            "8/8 [==============================] - 0s 6ms/step - loss: 0.0232\n",
            "Epoch 284/500\n",
            "8/8 [==============================] - 0s 2ms/step - loss: 0.0233\n",
            "Epoch 285/500\n",
            "8/8 [==============================] - 0s 2ms/step - loss: 0.0233\n",
            "Epoch 286/500\n",
            "8/8 [==============================] - 0s 2ms/step - loss: 0.0232\n",
            "Epoch 287/500\n",
            "8/8 [==============================] - 0s 980us/step - loss: 0.0232\n",
            "Epoch 288/500\n",
            "8/8 [==============================] - 0s 2ms/step - loss: 0.0230\n",
            "Epoch 289/500\n",
            "8/8 [==============================] - 0s 2ms/step - loss: 0.0230\n",
            "Epoch 290/500\n",
            "8/8 [==============================] - 0s 2ms/step - loss: 0.0228\n",
            "Epoch 291/500\n",
            "8/8 [==============================] - 0s 2ms/step - loss: 0.0227\n",
            "Epoch 292/500\n",
            "8/8 [==============================] - 0s 2ms/step - loss: 0.0227\n",
            "Epoch 293/500\n",
            "8/8 [==============================] - 0s 2ms/step - loss: 0.0227\n",
            "Epoch 294/500\n",
            "8/8 [==============================] - 0s 2ms/step - loss: 0.0228\n",
            "Epoch 295/500\n",
            "8/8 [==============================] - 0s 2ms/step - loss: 0.0227\n",
            "Epoch 296/500\n",
            "8/8 [==============================] - 0s 2ms/step - loss: 0.0224\n",
            "Epoch 297/500\n",
            "8/8 [==============================] - 0s 2ms/step - loss: 0.0224\n",
            "Epoch 298/500\n",
            "8/8 [==============================] - 0s 2ms/step - loss: 0.0224\n",
            "Epoch 299/500\n",
            "8/8 [==============================] - 0s 2ms/step - loss: 0.0224\n",
            "Epoch 300/500\n",
            "8/8 [==============================] - 0s 2ms/step - loss: 0.0223\n",
            "Epoch 301/500\n",
            "8/8 [==============================] - 0s 2ms/step - loss: 0.0221\n",
            "Epoch 302/500\n",
            "8/8 [==============================] - 0s 2ms/step - loss: 0.0221\n",
            "Epoch 303/500\n",
            "8/8 [==============================] - 0s 37ms/step - loss: 0.0221\n",
            "Epoch 304/500\n",
            "8/8 [==============================] - 0s 2ms/step - loss: 0.0219\n",
            "Epoch 305/500\n",
            "8/8 [==============================] - 0s 2ms/step - loss: 0.0220\n",
            "Epoch 306/500\n",
            "8/8 [==============================] - 0s 2ms/step - loss: 0.0220\n",
            "Epoch 307/500\n",
            "8/8 [==============================] - 0s 2ms/step - loss: 0.0218\n",
            "Epoch 308/500\n",
            "8/8 [==============================] - 0s 2ms/step - loss: 0.0218\n",
            "Epoch 309/500\n",
            "8/8 [==============================] - 0s 2ms/step - loss: 0.0216\n",
            "Epoch 310/500\n",
            "8/8 [==============================] - 0s 2ms/step - loss: 0.0215\n",
            "Epoch 311/500\n",
            "8/8 [==============================] - 0s 2ms/step - loss: 0.0216\n",
            "Epoch 312/500\n",
            "8/8 [==============================] - 0s 2ms/step - loss: 0.0217\n",
            "Epoch 313/500\n",
            "8/8 [==============================] - 0s 2ms/step - loss: 0.0216\n",
            "Epoch 314/500\n",
            "8/8 [==============================] - 0s 2ms/step - loss: 0.0215\n",
            "Epoch 315/500\n",
            "8/8 [==============================] - 0s 2ms/step - loss: 0.0214\n",
            "Epoch 316/500\n",
            "8/8 [==============================] - 0s 2ms/step - loss: 0.0212\n",
            "Epoch 317/500\n",
            "8/8 [==============================] - 0s 2ms/step - loss: 0.0217\n",
            "Epoch 318/500\n",
            "8/8 [==============================] - 0s 2ms/step - loss: 0.0216\n",
            "Epoch 319/500\n",
            "8/8 [==============================] - 0s 2ms/step - loss: 0.0214\n",
            "Epoch 320/500\n",
            "8/8 [==============================] - 0s 2ms/step - loss: 0.0218\n",
            "Epoch 321/500\n",
            "8/8 [==============================] - 0s 38ms/step - loss: 0.0219\n",
            "Epoch 322/500\n",
            "8/8 [==============================] - 0s 2ms/step - loss: 0.0213\n",
            "Epoch 323/500\n",
            "8/8 [==============================] - 0s 2ms/step - loss: 0.0209\n",
            "Epoch 324/500\n",
            "8/8 [==============================] - 0s 2ms/step - loss: 0.0210\n",
            "Epoch 325/500\n",
            "8/8 [==============================] - 0s 2ms/step - loss: 0.0210\n",
            "Epoch 326/500\n",
            "8/8 [==============================] - 0s 2ms/step - loss: 0.0207\n",
            "Epoch 327/500\n",
            "8/8 [==============================] - 0s 2ms/step - loss: 0.0208\n",
            "Epoch 328/500\n",
            "8/8 [==============================] - 0s 2ms/step - loss: 0.0207\n",
            "Epoch 329/500\n",
            "8/8 [==============================] - 0s 2ms/step - loss: 0.0205\n",
            "Epoch 330/500\n",
            "8/8 [==============================] - 0s 2ms/step - loss: 0.0204\n",
            "Epoch 331/500\n",
            "8/8 [==============================] - 0s 2ms/step - loss: 0.0205\n",
            "Epoch 332/500\n",
            "8/8 [==============================] - 0s 2ms/step - loss: 0.0205\n",
            "Epoch 333/500\n",
            "8/8 [==============================] - 0s 2ms/step - loss: 0.0204\n",
            "Epoch 334/500\n",
            "8/8 [==============================] - 0s 2ms/step - loss: 0.0203\n",
            "Epoch 335/500\n",
            "8/8 [==============================] - 0s 2ms/step - loss: 0.0204\n",
            "Epoch 336/500\n",
            "8/8 [==============================] - 0s 2ms/step - loss: 0.0201\n",
            "Epoch 337/500\n",
            "8/8 [==============================] - 0s 2ms/step - loss: 0.0201\n",
            "Epoch 338/500\n",
            "8/8 [==============================] - 0s 2ms/step - loss: 0.0202\n",
            "Epoch 339/500\n",
            "8/8 [==============================] - 0s 2ms/step - loss: 0.0200\n",
            "Epoch 340/500\n",
            "8/8 [==============================] - 0s 31ms/step - loss: 0.0201\n",
            "Epoch 341/500\n",
            "8/8 [==============================] - 0s 2ms/step - loss: 0.0201\n",
            "Epoch 342/500\n",
            "8/8 [==============================] - 0s 2ms/step - loss: 0.0202\n",
            "Epoch 343/500\n",
            "8/8 [==============================] - 0s 2ms/step - loss: 0.0202\n",
            "Epoch 344/500\n",
            "8/8 [==============================] - 0s 2ms/step - loss: 0.0198\n",
            "Epoch 345/500\n",
            "8/8 [==============================] - 0s 2ms/step - loss: 0.0197\n",
            "Epoch 346/500\n",
            "8/8 [==============================] - 0s 2ms/step - loss: 0.0196\n",
            "Epoch 347/500\n",
            "8/8 [==============================] - 0s 2ms/step - loss: 0.0196\n",
            "Epoch 348/500\n",
            "8/8 [==============================] - 0s 2ms/step - loss: 0.0195\n",
            "Epoch 349/500\n",
            "8/8 [==============================] - 0s 2ms/step - loss: 0.0194\n",
            "Epoch 350/500\n",
            "8/8 [==============================] - 0s 2ms/step - loss: 0.0194\n",
            "Epoch 351/500\n",
            "8/8 [==============================] - 0s 2ms/step - loss: 0.0195\n",
            "Epoch 352/500\n",
            "8/8 [==============================] - 0s 2ms/step - loss: 0.0194\n",
            "Epoch 353/500\n",
            "8/8 [==============================] - 0s 2ms/step - loss: 0.0192\n",
            "Epoch 354/500\n",
            "8/8 [==============================] - 0s 2ms/step - loss: 0.0196\n",
            "Epoch 355/500\n",
            "8/8 [==============================] - 0s 2ms/step - loss: 0.0192\n",
            "Epoch 356/500\n",
            "8/8 [==============================] - 0s 2ms/step - loss: 0.0192\n",
            "Epoch 357/500\n",
            "8/8 [==============================] - 0s 2ms/step - loss: 0.0191\n",
            "Epoch 358/500\n",
            "8/8 [==============================] - 0s 2ms/step - loss: 0.0194\n",
            "Epoch 359/500\n",
            "8/8 [==============================] - 0s 33ms/step - loss: 0.0190\n",
            "Epoch 360/500\n",
            "8/8 [==============================] - 0s 2ms/step - loss: 0.0188\n",
            "Epoch 361/500\n",
            "8/8 [==============================] - 0s 2ms/step - loss: 0.0191\n",
            "Epoch 362/500\n",
            "8/8 [==============================] - 0s 2ms/step - loss: 0.0190\n",
            "Epoch 363/500\n",
            "8/8 [==============================] - 0s 2ms/step - loss: 0.0189\n",
            "Epoch 364/500\n",
            "8/8 [==============================] - 0s 2ms/step - loss: 0.0187\n",
            "Epoch 365/500\n",
            "8/8 [==============================] - 0s 2ms/step - loss: 0.0188\n",
            "Epoch 366/500\n",
            "8/8 [==============================] - 0s 2ms/step - loss: 0.0191\n",
            "Epoch 367/500\n",
            "8/8 [==============================] - 0s 2ms/step - loss: 0.0187\n",
            "Epoch 368/500\n",
            "8/8 [==============================] - 0s 2ms/step - loss: 0.0188\n",
            "Epoch 369/500\n",
            "8/8 [==============================] - 0s 2ms/step - loss: 0.0186\n",
            "Epoch 370/500\n",
            "8/8 [==============================] - 0s 2ms/step - loss: 0.0183\n",
            "Epoch 371/500\n",
            "8/8 [==============================] - 0s 2ms/step - loss: 0.0186\n",
            "Epoch 372/500\n",
            "8/8 [==============================] - 0s 2ms/step - loss: 0.0186\n",
            "Epoch 373/500\n",
            "8/8 [==============================] - 0s 2ms/step - loss: 0.0186\n",
            "Epoch 374/500\n",
            "8/8 [==============================] - 0s 2ms/step - loss: 0.0183\n",
            "Epoch 375/500\n",
            "8/8 [==============================] - 0s 2ms/step - loss: 0.0182\n",
            "Epoch 376/500\n",
            "8/8 [==============================] - 0s 2ms/step - loss: 0.0181\n",
            "Epoch 377/500\n",
            "8/8 [==============================] - 0s 2ms/step - loss: 0.0181\n",
            "Epoch 378/500\n",
            "8/8 [==============================] - 0s 2ms/step - loss: 0.0183\n",
            "Epoch 379/500\n",
            "8/8 [==============================] - 0s 38ms/step - loss: 0.0182\n",
            "Epoch 380/500\n",
            "8/8 [==============================] - 0s 2ms/step - loss: 0.0182\n",
            "Epoch 381/500\n",
            "8/8 [==============================] - 0s 2ms/step - loss: 0.0182\n",
            "Epoch 382/500\n",
            "8/8 [==============================] - 0s 2ms/step - loss: 0.0180\n",
            "Epoch 383/500\n",
            "8/8 [==============================] - 0s 2ms/step - loss: 0.0177\n",
            "Epoch 384/500\n",
            "8/8 [==============================] - 0s 2ms/step - loss: 0.0180\n",
            "Epoch 385/500\n",
            "8/8 [==============================] - 0s 2ms/step - loss: 0.0181\n",
            "Epoch 386/500\n",
            "8/8 [==============================] - 0s 2ms/step - loss: 0.0182\n",
            "Epoch 387/500\n",
            "8/8 [==============================] - 0s 2ms/step - loss: 0.0180\n",
            "Epoch 388/500\n",
            "8/8 [==============================] - 0s 2ms/step - loss: 0.0178\n",
            "Epoch 389/500\n",
            "8/8 [==============================] - 0s 2ms/step - loss: 0.0180\n",
            "Epoch 390/500\n",
            "8/8 [==============================] - 0s 2ms/step - loss: 0.0177\n",
            "Epoch 391/500\n",
            "8/8 [==============================] - 0s 2ms/step - loss: 0.0174\n",
            "Epoch 392/500\n",
            "8/8 [==============================] - 0s 2ms/step - loss: 0.0176\n",
            "Epoch 393/500\n",
            "8/8 [==============================] - 0s 2ms/step - loss: 0.0174\n",
            "Epoch 394/500\n",
            "8/8 [==============================] - 0s 2ms/step - loss: 0.0175\n",
            "Epoch 395/500\n",
            "8/8 [==============================] - 0s 2ms/step - loss: 0.0175\n",
            "Epoch 396/500\n",
            "8/8 [==============================] - 0s 2ms/step - loss: 0.0173\n",
            "Epoch 397/500\n",
            "8/8 [==============================] - 0s 2ms/step - loss: 0.0178\n",
            "Epoch 398/500\n",
            "8/8 [==============================] - 0s 38ms/step - loss: 0.0173\n",
            "Epoch 399/500\n",
            "8/8 [==============================] - 0s 2ms/step - loss: 0.0170\n",
            "Epoch 400/500\n",
            "8/8 [==============================] - 0s 2ms/step - loss: 0.0174\n",
            "Epoch 401/500\n",
            "8/8 [==============================] - 0s 2ms/step - loss: 0.0170\n",
            "Epoch 402/500\n",
            "8/8 [==============================] - 0s 2ms/step - loss: 0.0170\n",
            "Epoch 403/500\n",
            "8/8 [==============================] - 0s 2ms/step - loss: 0.0172\n",
            "Epoch 404/500\n",
            "8/8 [==============================] - 0s 2ms/step - loss: 0.0170\n",
            "Epoch 405/500\n",
            "8/8 [==============================] - 0s 2ms/step - loss: 0.0169\n",
            "Epoch 406/500\n",
            "8/8 [==============================] - 0s 2ms/step - loss: 0.0170\n",
            "Epoch 407/500\n",
            "8/8 [==============================] - 0s 2ms/step - loss: 0.0168\n",
            "Epoch 408/500\n",
            "8/8 [==============================] - 0s 2ms/step - loss: 0.0169\n",
            "Epoch 409/500\n",
            "8/8 [==============================] - 0s 2ms/step - loss: 0.0166\n",
            "Epoch 410/500\n",
            "8/8 [==============================] - 0s 2ms/step - loss: 0.0168\n",
            "Epoch 411/500\n",
            "8/8 [==============================] - 0s 2ms/step - loss: 0.0167\n",
            "Epoch 412/500\n",
            "8/8 [==============================] - 0s 2ms/step - loss: 0.0167\n",
            "Epoch 413/500\n",
            "8/8 [==============================] - 0s 2ms/step - loss: 0.0165\n",
            "Epoch 414/500\n",
            "8/8 [==============================] - 0s 2ms/step - loss: 0.0167\n",
            "Epoch 415/500\n",
            "8/8 [==============================] - 0s 2ms/step - loss: 0.0165\n",
            "Epoch 416/500\n",
            "8/8 [==============================] - 0s 2ms/step - loss: 0.0166\n",
            "Epoch 417/500\n",
            "8/8 [==============================] - 0s 38ms/step - loss: 0.0164\n",
            "Epoch 418/500\n",
            "8/8 [==============================] - 0s 2ms/step - loss: 0.0164\n",
            "Epoch 419/500\n",
            "8/8 [==============================] - 0s 2ms/step - loss: 0.0164\n",
            "Epoch 420/500\n",
            "8/8 [==============================] - 0s 2ms/step - loss: 0.0163\n",
            "Epoch 421/500\n",
            "8/8 [==============================] - 0s 2ms/step - loss: 0.0163\n",
            "Epoch 422/500\n",
            "8/8 [==============================] - 0s 2ms/step - loss: 0.0162\n",
            "Epoch 423/500\n",
            "8/8 [==============================] - 0s 2ms/step - loss: 0.0162\n",
            "Epoch 424/500\n",
            "8/8 [==============================] - 0s 2ms/step - loss: 0.0160\n",
            "Epoch 425/500\n",
            "8/8 [==============================] - 0s 2ms/step - loss: 0.0162\n",
            "Epoch 426/500\n",
            "8/8 [==============================] - 0s 2ms/step - loss: 0.0161\n",
            "Epoch 427/500\n",
            "8/8 [==============================] - 0s 2ms/step - loss: 0.0159\n",
            "Epoch 428/500\n",
            "8/8 [==============================] - 0s 2ms/step - loss: 0.0161\n",
            "Epoch 429/500\n",
            "8/8 [==============================] - 0s 2ms/step - loss: 0.0161\n",
            "Epoch 430/500\n",
            "8/8 [==============================] - 0s 2ms/step - loss: 0.0160\n",
            "Epoch 431/500\n",
            "8/8 [==============================] - 0s 2ms/step - loss: 0.0159\n",
            "Epoch 432/500\n",
            "8/8 [==============================] - 0s 2ms/step - loss: 0.0159\n",
            "Epoch 433/500\n",
            "8/8 [==============================] - 0s 2ms/step - loss: 0.0158\n",
            "Epoch 434/500\n",
            "8/8 [==============================] - 0s 2ms/step - loss: 0.0158\n",
            "Epoch 435/500\n",
            "8/8 [==============================] - 0s 2ms/step - loss: 0.0160\n",
            "Epoch 436/500\n",
            "8/8 [==============================] - 0s 38ms/step - loss: 0.0156\n",
            "Epoch 437/500\n",
            "8/8 [==============================] - 0s 2ms/step - loss: 0.0158\n",
            "Epoch 438/500\n",
            "8/8 [==============================] - 0s 2ms/step - loss: 0.0155\n",
            "Epoch 439/500\n",
            "8/8 [==============================] - 0s 2ms/step - loss: 0.0155\n",
            "Epoch 440/500\n",
            "8/8 [==============================] - 0s 2ms/step - loss: 0.0169\n",
            "Epoch 441/500\n",
            "8/8 [==============================] - 0s 2ms/step - loss: 0.0159\n",
            "Epoch 442/500\n",
            "8/8 [==============================] - 0s 2ms/step - loss: 0.0157\n",
            "Epoch 443/500\n",
            "8/8 [==============================] - 0s 2ms/step - loss: 0.0154\n",
            "Epoch 444/500\n",
            "8/8 [==============================] - 0s 2ms/step - loss: 0.0154\n",
            "Epoch 445/500\n",
            "8/8 [==============================] - 0s 2ms/step - loss: 0.0155\n",
            "Epoch 446/500\n",
            "8/8 [==============================] - 0s 2ms/step - loss: 0.0152\n",
            "Epoch 447/500\n",
            "8/8 [==============================] - 0s 2ms/step - loss: 0.0152\n",
            "Epoch 448/500\n",
            "8/8 [==============================] - 0s 2ms/step - loss: 0.0152\n",
            "Epoch 449/500\n",
            "8/8 [==============================] - 0s 2ms/step - loss: 0.0154\n",
            "Epoch 450/500\n",
            "8/8 [==============================] - 0s 2ms/step - loss: 0.0154\n",
            "Epoch 451/500\n",
            "8/8 [==============================] - 0s 2ms/step - loss: 0.0154\n",
            "Epoch 452/500\n",
            "8/8 [==============================] - 0s 2ms/step - loss: 0.0151\n",
            "Epoch 453/500\n",
            "8/8 [==============================] - 0s 2ms/step - loss: 0.0151\n",
            "Epoch 454/500\n",
            "8/8 [==============================] - 0s 2ms/step - loss: 0.0151\n",
            "Epoch 455/500\n",
            "8/8 [==============================] - 0s 6ms/step - loss: 0.0151\n",
            "Epoch 456/500\n",
            "8/8 [==============================] - 0s 2ms/step - loss: 0.0151\n",
            "Epoch 457/500\n",
            "8/8 [==============================] - 0s 3ms/step - loss: 0.0149\n",
            "Epoch 458/500\n",
            "8/8 [==============================] - 0s 2ms/step - loss: 0.0150\n",
            "Epoch 459/500\n",
            "8/8 [==============================] - 0s 2ms/step - loss: 0.0149\n",
            "Epoch 460/500\n",
            "8/8 [==============================] - 0s 2ms/step - loss: 0.0148\n",
            "Epoch 461/500\n",
            "8/8 [==============================] - 0s 2ms/step - loss: 0.0150\n",
            "Epoch 462/500\n",
            "8/8 [==============================] - 0s 2ms/step - loss: 0.0147\n",
            "Epoch 463/500\n",
            "8/8 [==============================] - 0s 2ms/step - loss: 0.0149\n",
            "Epoch 464/500\n",
            "8/8 [==============================] - 0s 2ms/step - loss: 0.0147\n",
            "Epoch 465/500\n",
            "8/8 [==============================] - 0s 2ms/step - loss: 0.0148\n",
            "Epoch 466/500\n",
            "8/8 [==============================] - 0s 2ms/step - loss: 0.0147\n",
            "Epoch 467/500\n",
            "8/8 [==============================] - 0s 2ms/step - loss: 0.0146\n",
            "Epoch 468/500\n",
            "8/8 [==============================] - 0s 2ms/step - loss: 0.0146\n",
            "Epoch 469/500\n",
            "8/8 [==============================] - 0s 2ms/step - loss: 0.0146\n",
            "Epoch 470/500\n",
            "8/8 [==============================] - 0s 2ms/step - loss: 0.0146\n",
            "Epoch 471/500\n",
            "8/8 [==============================] - 0s 2ms/step - loss: 0.0146\n",
            "Epoch 472/500\n",
            "8/8 [==============================] - 0s 2ms/step - loss: 0.0145\n",
            "Epoch 473/500\n",
            "8/8 [==============================] - 0s 2ms/step - loss: 0.0147\n",
            "Epoch 474/500\n",
            "8/8 [==============================] - 0s 38ms/step - loss: 0.0145\n",
            "Epoch 475/500\n",
            "8/8 [==============================] - 0s 2ms/step - loss: 0.0144\n",
            "Epoch 476/500\n",
            "8/8 [==============================] - 0s 2ms/step - loss: 0.0145\n",
            "Epoch 477/500\n",
            "8/8 [==============================] - 0s 2ms/step - loss: 0.0144\n",
            "Epoch 478/500\n",
            "8/8 [==============================] - 0s 2ms/step - loss: 0.0145\n",
            "Epoch 479/500\n",
            "8/8 [==============================] - 0s 2ms/step - loss: 0.0146\n",
            "Epoch 480/500\n",
            "8/8 [==============================] - 0s 2ms/step - loss: 0.0145\n",
            "Epoch 481/500\n",
            "8/8 [==============================] - 0s 2ms/step - loss: 0.0147\n",
            "Epoch 482/500\n",
            "8/8 [==============================] - 0s 2ms/step - loss: 0.0145\n",
            "Epoch 483/500\n",
            "8/8 [==============================] - 0s 2ms/step - loss: 0.0143\n",
            "Epoch 484/500\n",
            "8/8 [==============================] - 0s 2ms/step - loss: 0.0145\n",
            "Epoch 485/500\n",
            "8/8 [==============================] - 0s 2ms/step - loss: 0.0142\n",
            "Epoch 486/500\n",
            "8/8 [==============================] - 0s 2ms/step - loss: 0.0144\n",
            "Epoch 487/500\n",
            "8/8 [==============================] - 0s 2ms/step - loss: 0.0143\n",
            "Epoch 488/500\n",
            "8/8 [==============================] - 0s 2ms/step - loss: 0.0141\n",
            "Epoch 489/500\n",
            "8/8 [==============================] - 0s 2ms/step - loss: 0.0141\n",
            "Epoch 490/500\n",
            "8/8 [==============================] - 0s 2ms/step - loss: 0.0141\n",
            "Epoch 491/500\n",
            "8/8 [==============================] - 0s 2ms/step - loss: 0.0140\n",
            "Epoch 492/500\n",
            "8/8 [==============================] - 0s 2ms/step - loss: 0.0142\n",
            "Epoch 493/500\n",
            "8/8 [==============================] - 0s 17ms/step - loss: 0.0141\n",
            "Epoch 494/500\n",
            "8/8 [==============================] - 0s 2ms/step - loss: 0.0140\n",
            "Epoch 495/500\n",
            "8/8 [==============================] - 0s 2ms/step - loss: 0.0140\n",
            "Epoch 496/500\n",
            "8/8 [==============================] - 0s 2ms/step - loss: 0.0141\n",
            "Epoch 497/500\n",
            "8/8 [==============================] - 0s 2ms/step - loss: 0.0141\n",
            "Epoch 498/500\n",
            "8/8 [==============================] - 0s 2ms/step - loss: 0.0141\n",
            "Epoch 499/500\n",
            "8/8 [==============================] - 0s 2ms/step - loss: 0.0141\n",
            "Epoch 500/500\n",
            "8/8 [==============================] - 0s 2ms/step - loss: 0.0139\n"
          ]
        },
        {
          "data": {
            "text/plain": [
              "<keras.callbacks.History at 0x24611e83d60>"
            ]
          },
          "execution_count": 9,
          "metadata": {},
          "output_type": "execute_result"
        }
      ],
      "source": [
        "import keras\n",
        "from keras.models import Sequential\n",
        "from keras.layers import Dense\n",
        "\n",
        "keras.utils.set_random_seed(0)\n",
        "\n",
        "#Generation of the network structure\n",
        "model = Sequential()\n",
        "model.add(Dense(10, input_dim = Xtrain.shape[1], activation = 'relu'))\n",
        "model.add(Dense(10, activation = 'relu'))\n",
        "model.add(Dense(10, activation = 'relu'))\n",
        "model.add(Dense(Ytrain.shape[1], activation = 'linear'))\n",
        "\n",
        "#Setting the parameters for the training\n",
        "model.compile(loss='mean_squared_error', optimizer = 'adam')\n",
        "\n",
        "#Execution of the training\n",
        "model.fit(Xtrain, Ytrain, epochs = 500)"
      ]
    },
    {
      "cell_type": "markdown",
      "metadata": {},
      "source": [
        "### Question 4: Model evaluation"
      ]
    },
    {
      "cell_type": "markdown",
      "metadata": {},
      "source": [
        "*Evaluate the training performance on the test set using mean squared error (MSE) and coefficient of determination (R2) metrics.*"
      ]
    },
    {
      "cell_type": "markdown",
      "metadata": {},
      "source": [
        "After the training, its time to evaluate the performance of our model. It is important to evaluate the model on the test set rather than the train set, because in this way it is possible to assess the generalization capabilities of the model.<p>\n",
        "This is done executing the prediction of the model on the test point, and comparing them with the experimental value contained in the dataset. The prediction is done thorugh the command `model.predict`.<br> \n",
        "Following, the obtained predictions values must be converted to the original scale to the original scale in order to have the actual value of the errors. In fact, to train the model the variables have been scaled through the standard scaler in order to increase the model prediction accuracy. The re-conversion to the original scale is done using the command `Yscaler.inverse_transform`.<br>\n",
        "The comparison is done through the MSE and the R<sup>2</sup> metrics, importing the ` mean_squared_error`and the `r2_score` from `sklearn.metrics`."
      ]
    },
    {
      "cell_type": "code",
      "execution_count": 10,
      "metadata": {
        "colab": {
          "base_uri": "https://localhost:8080/"
        },
        "id": "fg4yz3sFdFxR",
        "outputId": "24b03d6a-ba18-4e21-d8c1-92c4eba345f5"
      },
      "outputs": [
        {
          "name": "stdout",
          "output_type": "stream",
          "text": [
            "2/2 [==============================] - 0s 197ms/step\n",
            "R2 score: 0.9515904691412028\n",
            "MSE score: 0.008081665131964958\n"
          ]
        }
      ],
      "source": [
        "#Importing the needed functions\n",
        "from sklearn.metrics import mean_squared_error, r2_score\n",
        "\n",
        "#Prediction on model on the test set\n",
        "Ytest_pred = model.predict(Xtest)\n",
        "\n",
        "#Rescaling the values to the physical scale\n",
        "Ytest_real = Yscaler.inverse_transform(Ytest)\n",
        "Ytest_pred = Yscaler.inverse_transform(Ytest_pred)\n",
        "\n",
        "#Calculating the values of the metrics\n",
        "r2_test = r2_score(Ytest_real, Ytest_pred)\n",
        "mse_test = mean_squared_error(Ytest_real, Ytest_pred)\n",
        "\n",
        "#Displaying the results\n",
        "print('R2 score:', r2_test)\n",
        "print('MSE score:', mse_test)"
      ]
    },
    {
      "cell_type": "markdown",
      "metadata": {},
      "source": [
        "The closest the R<sup>2</sup> value is to one, the more accurate is the model. The lower is the MSE value, the more accurate is the model.<br>\n",
        "In this case, the model performance are very good. This results are obtained on the test set, that are values that the model has never seen during the training."
      ]
    },
    {
      "cell_type": "markdown",
      "metadata": {},
      "source": [
        "Another way of visualizing the data, is through the parity plot. In this plot, the experimental value is reported on the x-axis, while the prediction for the same value is reported on the y-axis. The closer are the value to the line with slope 1, the more accurate our model is.<br>\n",
        "Moreover, in this kind of plot it is possible to graphically compare the performance on various sets (i.e., train and test sets).<p>\n",
        "The case in this exercise, takes into account two variables (K<sub>G</sub>a and eta), therefore we will have two parity plots.<br>\n",
        "The parity plot can be created using the library ``matplotlib``, however this is out of the scope of this exercise. For this reason, we have created a function to generate them included in the library ``utils.py`` included in this exercise. "
      ]
    },
    {
      "cell_type": "code",
      "execution_count": 11,
      "metadata": {
        "colab": {
          "base_uri": "https://localhost:8080/",
          "height": 482
        },
        "id": "t59RO4jsdVJo",
        "outputId": "8caa24c4-5971-4b29-cde5-0fc266e32fcf"
      },
      "outputs": [
        {
          "name": "stdout",
          "output_type": "stream",
          "text": [
            "8/8 [==============================] - 0s 2ms/step\n",
            "2/2 [==============================] - 0s 3ms/step\n"
          ]
        },
        {
          "data": {
            "image/png": "[encoded data removed]",
            "text/plain": [
              "<Figure size 640x480 with 2 Axes>"
            ]
          },
          "metadata": {},
          "output_type": "display_data"
        }
      ],
      "source": [
        "#Importing the needed library\n",
        "from utils import parity_plot\n",
        "\n",
        "#Predicting the values on the train and test set\n",
        "Ytrain_pred = model.predict(Xtrain)\n",
        "Ytest_pred = model.predict(Xtest)\n",
        "\n",
        "#Scaling the value from the training scale to the physical scale\n",
        "Ytrain_real = Yscaler.inverse_transform(Ytrain)\n",
        "Ytrain_pred = Yscaler.inverse_transform(Ytrain_pred)\n",
        "Ytest_real = Yscaler.inverse_transform(Ytest)\n",
        "Ytest_pred = Yscaler.inverse_transform(Ytest_pred)\n",
        "\n",
        "#Executing the plot\n",
        "parity_plot(Ytrain_real, Ytest_real, Ytrain_pred, Ytest_pred)"
      ]
    },
    {
      "cell_type": "markdown",
      "metadata": {},
      "source": [
        "Also the partity plots confirm that the model performance are quite accurate and not significant difference can be detected between train and test set."
      ]
    },
    {
      "cell_type": "markdown",
      "metadata": {
        "id": "XqedxNST414u"
      },
      "source": [
        "### Question 5: Design the column"
      ]
    },
    {
      "cell_type": "markdown",
      "metadata": {},
      "source": [
        "After the training of the model, it is time to use it.<br>\n",
        "The exercise asks us to design a column that is able to work with a gas having the following characteristics:\n",
        "* Gas flow rate: 20 000 m<sup>3</sup>/h\n",
        "* CO<sub>2</sub> partial pressure: 10 kPa\n",
        "* CO<sub>2</sub> loading in the absorption amine: 0.1 molCO<sub>2</sub>/molAmine"
      ]
    },
    {
      "cell_type": "markdown",
      "metadata": {},
      "source": [
        "To simplify the code, this exercise provides an optimization toolkit already embedding the function to be maximized and the optimization algorithm. They are contained in the class ``ModelWrapper``. Following, you can find more information them:\n",
        "* *Optimization function*: the ``ModelWrapper`` class aim minimizing the following function: $-K_Ga$. Therefore, the function aim the maximization of the K<sub>G</sub>a value. This is done because an high K<sub>G</sub>a translate in higher CO<sub>2</sub> transfer from the gas-phase to the liquid-phase. This means lower column volumes and much lower capital investment and operational costs.\n",
        "* *Optimization algorithm*:  the ``ModelWrapper`` class employs a [differential evolution algorithm](https://en.wikipedia.org/wiki/Differential_evolution)(DE) finilized by a [gradient-based optimization](https://en.wikipedia.org/wiki/Gradient_method) on the best identified particle. The DE algorithm employs many particle for the search of the optimum, this way the chance of getting the global optimum are higher."
      ]
    },
    {
      "cell_type": "markdown",
      "metadata": {},
      "source": [
        "Let's import all the needed function and let's add the constraint on the CO<sub>2</sub> partial pressure and the CO<sub>2</sub> loading within the liquid at the column inlet."
      ]
    },
    {
      "cell_type": "code",
      "execution_count": 19,
      "metadata": {
        "id": "9q1pVTkJeN4N"
      },
      "outputs": [],
      "source": [
        "#Importing the toolkit from the optimization\n",
        "from utils import ModelWrapper\n",
        "\n",
        "PCO2 = 10       #CO2 partial pressure contraint value\n",
        "CO2_alpha = 0.1 #CO2 loading at the column inlet constraint value"
      ]
    },
    {
      "cell_type": "markdown",
      "metadata": {},
      "source": [
        "Let's initialize the ``ModelWrapper`` for the case in analysis. It requires the trained model and the scaler for the X and Y variable."
      ]
    },
    {
      "cell_type": "code",
      "execution_count": 20,
      "metadata": {},
      "outputs": [],
      "source": [
        "wrapper = ModelWrapper(model, Xscaler, Yscaler)"
      ]
    },
    {
      "cell_type": "markdown",
      "metadata": {},
      "source": [
        "After this we can focus on the optimization. The DE optimizer requires the bounds within which the serach has to take place.<br>\n",
        "The data-driven model have good prediction capabilities within their train bounddaries. Therefore, we will set as boundaries for the search the boundaries of each input variable within the dataset.<br>\n",
        "The bounds must be contained in a matrix where each row is a variable, the 1<sup>st</sup> column is the minimum bound, and the 2<sup>nd</sup> column is the maximum bound.<p> Moreover, it also requires the index of the rows containing the CO<sub>2</sub> partial pressure and the CO<sub>2</sub> loading. This way, it can contraint the values to the desired ones.\n",
        "\n",
        "To ease the work of getting the bounds, we can use the command ``df.describe().loc[['min', 'max']]`` to get the minimum and the maximum values of the columns within our databse"
      ]
    },
    {
      "cell_type": "code",
      "execution_count": 23,
      "metadata": {},
      "outputs": [
        {
          "data": {
            "text/html": [
              "<div>\n",
              "<style scoped>\n",
              "    .dataframe tbody tr th:only-of-type {\n",
              "        vertical-align: middle;\n",
              "    }\n",
              "\n",
              "    .dataframe tbody tr th {\n",
              "        vertical-align: top;\n",
              "    }\n",
              "\n",
              "    .dataframe thead th {\n",
              "        text-align: right;\n",
              "    }\n",
              "</style>\n",
              "<table border=\"1\" class=\"dataframe\">\n",
              "  <thead>\n",
              "    <tr style=\"text-align: right;\">\n",
              "      <th></th>\n",
              "      <th>GFR</th>\n",
              "      <th>LFR</th>\n",
              "      <th>Temp</th>\n",
              "      <th>CO2alpha</th>\n",
              "      <th>CO2pp</th>\n",
              "      <th>Height</th>\n",
              "      <th>kGa</th>\n",
              "      <th>eta</th>\n",
              "    </tr>\n",
              "  </thead>\n",
              "  <tbody>\n",
              "    <tr>\n",
              "      <th>min</th>\n",
              "      <td>101.380</td>\n",
              "      <td>2.006</td>\n",
              "      <td>40.097</td>\n",
              "      <td>0.001</td>\n",
              "      <td>1.030</td>\n",
              "      <td>5.0</td>\n",
              "      <td>0.016732</td>\n",
              "      <td>0.471522</td>\n",
              "    </tr>\n",
              "    <tr>\n",
              "      <th>max</th>\n",
              "      <td>999.643</td>\n",
              "      <td>9.985</td>\n",
              "      <td>79.999</td>\n",
              "      <td>0.449</td>\n",
              "      <td>19.945</td>\n",
              "      <td>29.9</td>\n",
              "      <td>2.483268</td>\n",
              "      <td>1.000000</td>\n",
              "    </tr>\n",
              "  </tbody>\n",
              "</table>\n",
              "</div>"
            ],
            "text/plain": [
              "         GFR    LFR    Temp  CO2alpha   CO2pp  Height       kGa       eta\n",
              "min  101.380  2.006  40.097     0.001   1.030     5.0  0.016732  0.471522\n",
              "max  999.643  9.985  79.999     0.449  19.945    29.9  2.483268  1.000000"
            ]
          },
          "execution_count": 23,
          "metadata": {},
          "output_type": "execute_result"
        }
      ],
      "source": [
        "df.describe().loc[['min', 'max']]"
      ]
    },
    {
      "cell_type": "markdown",
      "metadata": {},
      "source": [
        "Now we can create the matrix copying the information from the above table. Only the values for the input variables has to be copied, therefore we must stop at the column `Height`.<br>\n",
        "Moreover, we will also set the position of CO2pp and CO2alpha rows within our dataset within a variable to be used as input for the optimization"
      ]
    },
    {
      "cell_type": "code",
      "execution_count": 24,
      "metadata": {},
      "outputs": [],
      "source": [
        "bounds = np.array([\n",
        "                   [101.380, 999.643],   #Bounds for GFR       ----- Position 0\n",
        "                   [2.006, 9.985],       #Bounds for LFR       ----- Position 1\n",
        "                   [40.097, 79.999],     #Bounds for Temp      ----- Position 2\n",
        "                   [0.001, 0.449],       #Bounds for CO2alpha  ----- Position 3\n",
        "                   [1.030, 19.945],      #Bounds for CO2pp     ----- Position 4\n",
        "                   [5.0, 29.9]           #Bounds for height    ----- Position 5\n",
        "                   ])\n",
        "position_CO2pp = 4\n",
        "position_CO2alpha = 3"
      ]
    },
    {
      "cell_type": "markdown",
      "metadata": {},
      "source": [
        "Now that everything is set, we can start the optimization giving the required input to the method `maximize_KGa` of the `wrapper`."
      ]
    },
    {
      "cell_type": "code",
      "execution_count": 25,
      "metadata": {},
      "outputs": [],
      "source": [
        "res = wrapper.maximize_KGa(bounds,\n",
        "                    position_CO2pp, PCO2,\n",
        "                    position_CO2alpha, CO2_alpha)"
      ]
    },
    {
      "cell_type": "markdown",
      "metadata": {},
      "source": [
        "The optimization successfully terminated. Let's have a look to the result"
      ]
    },
    {
      "cell_type": "code",
      "execution_count": 26,
      "metadata": {},
      "outputs": [
        {
          "data": {
            "text/plain": [
              "             message: Optimization terminated successfully.\n",
              "             success: True\n",
              "                 fun: -1.6690361499786377\n",
              "                   x: [ 9.616e+02  9.976e+00  4.028e+01  1.000e-01\n",
              "                        1.000e+01  2.990e+01]\n",
              "                 nit: 26\n",
              "                nfev: 1625\n",
              "          population: [[ 9.616e+02  9.976e+00 ...  1.000e+01  2.990e+01]\n",
              "                       [ 9.041e+02  9.927e+00 ...  1.000e+01  2.942e+01]\n",
              "                       ...\n",
              "                       [ 9.214e+02  9.876e+00 ...  1.000e+01  2.962e+01]\n",
              "                       [ 9.289e+02  9.979e+00 ...  1.000e+01  2.981e+01]]\n",
              " population_energies: [-1.669e+00 -1.651e+00 ... -1.653e+00 -1.653e+00]"
            ]
          },
          "execution_count": 26,
          "metadata": {},
          "output_type": "execute_result"
        }
      ],
      "source": [
        "res"
      ]
    },
    {
      "cell_type": "markdown",
      "metadata": {},
      "source": [
        "The optimizer returns a lot of information, however what we need in only for the scope of this exercise, is only the `x`. Therefore, let's save the values in a variable that will be used within the code. We will call this variable `best_x`"
      ]
    },
    {
      "cell_type": "code",
      "execution_count": 27,
      "metadata": {},
      "outputs": [],
      "source": [
        "best_x = res.x"
      ]
    },
    {
      "cell_type": "markdown",
      "metadata": {},
      "source": [
        "Our optimal parameters are"
      ]
    },
    {
      "cell_type": "code",
      "execution_count": 39,
      "metadata": {},
      "outputs": [
        {
          "name": "stdout",
          "output_type": "stream",
          "text": [
            "Optimal GFR_Area: 961.5853425158527 m3/(m2*h)\n",
            "Optimal LFR_Area: 9.97625864649554 L/(m2*h)\n",
            "Optimal Temperature: 40.28257096088731 C\n",
            "Optimal Height: 29.899885794762866 m\n"
          ]
        }
      ],
      "source": [
        "print('Optimal GFR_Area:', best_x[0],'m3/(m2*h)')\n",
        "print('Optimal LFR_Area:', best_x[1],'L/(m2*h)')\n",
        "print('Optimal Temperature:', best_x[2],'C')\n",
        "print('Optimal Height:', best_x[-1],'m')"
      ]
    },
    {
      "cell_type": "markdown",
      "metadata": {},
      "source": [
        "How does the variable position within the investigation space? We can use a visualization to have this informationa at a glance.<br>\n",
        "To do it, we will use the function `visualize_solution` contained in the file `utils`. It requires the identified solution and the dataframe containing the data."
      ]
    },
    {
      "cell_type": "code",
      "execution_count": 31,
      "metadata": {},
      "outputs": [
        {
          "data": {
            "image/png": "[encoded data removed]",
            "text/plain": [
              "<Figure size 640x480 with 6 Axes>"
            ]
          },
          "metadata": {},
          "output_type": "display_data"
        }
      ],
      "source": [
        "from utils import visualize_solution\n",
        "visualize_solution(best_x, df)"
      ]
    },
    {
      "cell_type": "markdown",
      "metadata": {},
      "source": [
        "Therefore, our solution is placed at high GFR and LFR, low temperature and requires an high column height. We will come back on the column height later."
      ]
    },
    {
      "cell_type": "markdown",
      "metadata": {},
      "source": [
        "Now it is time to design our column. We have identified the best process configuration giving the CO<sub>2</sub> partial pressure and the CO<sub>2</sub> loading as constraint. However, there is still a requirement to be respected that is the flow rate of gas to be processed.<br>\n",
        "From its value we can calculate the cross-section area of the column. We are asked to process 20 000 m<sup>3</sup>/h of gas, however the optimal solution gives us the optimal cross-section flow rate to maximize the K<sub>G</sub>a in m<sup>3</sup>/(m<sup>2</sup>h). We can use this value to calculate the column cross-section area"
      ]
    },
    {
      "cell_type": "code",
      "execution_count": 33,
      "metadata": {
        "colab": {
          "base_uri": "https://localhost:8080/"
        },
        "id": "2fkK_aKwsMRo",
        "outputId": "4f67b1fd-281b-4bb0-a160-b0b45d9aa804"
      },
      "outputs": [
        {
          "name": "stdout",
          "output_type": "stream",
          "text": [
            "Column cross-section area: 20.79898592013977 m2\n",
            "Column diameter: 2.9033621007300345 m\n"
          ]
        }
      ],
      "source": [
        "GFR = 20_000 \n",
        "\n",
        "GFR_Area_opt = best_x[0] #m3(m2*h)\n",
        "Area = GFR/GFR_Area_opt   #m2\n",
        "Dcolumn = 2*np.sqrt(Area)/np.pi\n",
        "print('Column cross-section area:', Area, 'm2')\n",
        "print('Column diameter:', Dcolumn, 'm')"
      ]
    },
    {
      "cell_type": "markdown",
      "metadata": {
        "id": "rc3a6zqUGdH_"
      },
      "source": [
        "From the cross-section area we can also calculate the required liquid flowrate"
      ]
    },
    {
      "cell_type": "code",
      "execution_count": 37,
      "metadata": {},
      "outputs": [
        {
          "name": "stdout",
          "output_type": "stream",
          "text": [
            "Liquid flowrate: 207.49606312413337 L/h\n"
          ]
        }
      ],
      "source": [
        "LFR_Area_opt = best_x[1] #L/(m2*h)\n",
        "LFR = LFR_Area_opt*Area\n",
        "print('Liquid flowrate:', LFR, 'L/h')"
      ]
    },
    {
      "cell_type": "markdown",
      "metadata": {},
      "source": [
        "What about the efficiency? We can calculate the expected efficiency using the identified optimal condition and the trained model. The prediction code is simplified using the `wrapper.prediction` function"
      ]
    },
    {
      "cell_type": "code",
      "execution_count": 41,
      "metadata": {},
      "outputs": [
        {
          "data": {
            "text/plain": [
              "array([[1.6690361, 1.0100559]], dtype=float32)"
            ]
          },
          "execution_count": 41,
          "metadata": {},
          "output_type": "execute_result"
        }
      ],
      "source": [
        "wrapper.predict(best_x)"
      ]
    },
    {
      "cell_type": "markdown",
      "metadata": {},
      "source": [
        "The efficiency of the obtained column is around 1. The returned value is above 1, however in the parity plot it is possible to see that the error in that area is around +/- 2%, therefore, the efficeincy is between 0.98 and 1."
      ]
    },
    {
      "cell_type": "markdown",
      "metadata": {},
      "source": []
    }
  ],
  "metadata": {
    "colab": {
      "provenance": []
    },
    "kernelspec": {
      "display_name": "Python 3",
      "name": "python3"
    },
    "language_info": {
      "codemirror_mode": {
        "name": "ipython",
        "version": 3
      },
      "file_extension": ".py",
      "mimetype": "text/x-python",
      "name": "python",
      "nbconvert_exporter": "python",
      "pygments_lexer": "ipython3",
      "version": "3.10.13"
    }
  },
  "nbformat": 4,
  "nbformat_minor": 0
}
