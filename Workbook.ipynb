{
  "cells": [
    {
      "cell_type": "markdown",
      "metadata": {},
      "source": [
        "***IMPORTANT***: This .ipynb notebook and the `utils.py` file must be in the same folder to let the code contained in this notebook work"
      ]
    },
    {
      "cell_type": "code",
      "execution_count": null,
      "metadata": {
        "id": "KbZJLzgJLp1z"
      },
      "outputs": [],
      "source": []
    },
    {
      "cell_type": "markdown",
      "metadata": {
        "id": "wdt3h-_TYB6S"
      },
      "source": [
        "### Question 1: Prepare the data for the training"
      ]
    },
    {
      "cell_type": "markdown",
      "metadata": {
        "id": "bnPcrU2CZjx-"
      },
      "source": [
        "### Question 2: Generation of a test set to evaluate the performance of the model"
      ]
    },
    {
      "cell_type": "markdown",
      "metadata": {
        "id": "Y5ku84qYcDqG"
      },
      "source": [
        "\n",
        "### Question 3: Train a model"
      ]
    },
    {
      "cell_type": "markdown",
      "metadata": {
        "id": "88oJ7JM7UK2i"
      },
      "source": [
        "We will train our model using Keras framework. It is a simple and robust framework to train and evaluate artificial neural networks.<p>\n",
        "The network will take as input the process variables and the column dimensions (6 input) and will return the transfer coefficient (K<sub>G</sub>a) and the absorption efficiency (2 output). Its will have 3 hidden layers, each of them having 10 nodes. Therefore, the network will look like the following figure<br>\n",
        "<center><img src=\"img/employed_ann.png\"/></center>\n"
      ]
    },
    {
      "cell_type": "markdown",
      "metadata": {},
      "source": [
        "The interal activation function will be ReLU and the output one will be linear.<br>\n",
        "To train the ANN we will use the [ADAM optimizer](https://arxiv.org/abs/1412.6980) and the mean squared error metric<br>\n",
        "$$\n",
        "MSE=\\frac{1}{N}\\cdot\\sum_{i=1}^{N} (Y_{i,exp} - y_{i,pred})^2\n",
        "$$\n",
        "The training will be executed with 500 epochs"
      ]
    },
    {
      "cell_type": "markdown",
      "metadata": {},
      "source": [
        "### Question 4: Model evaluation"
      ]
    },
    {
      "cell_type": "markdown",
      "metadata": {},
      "source": [
        "*Evaluate the training performance on the test set using mean squared error (MSE) and coefficient of determination (R2) metrics.*"
      ]
    },
    {
      "cell_type": "markdown",
      "metadata": {},
      "source": [
        "After the training, its time to evaluate the performance of our model. It is important to evaluate the model on the test set rather than the train set, because in this way it is possible to assess the generalization capabilities of the model.<p>\n",
        "This is done executing the prediction of the model on the test point, and comparing them with the experimental value contained in the dataset. The prediction is done thorugh the command `model.predict`.<br> \n",
        "Following, the obtained predictions values must be converted to the original scale to the original scale in order to have the actual value of the errors. In fact, to train the model the variables have been scaled through the standard scaler in order to increase the model prediction accuracy. The re-conversion to the original scale is done using the command `Yscaler.inverse_transform`.<br>\n",
        "The comparison is done through the MSE and the R<sup>2</sup> metrics, importing the ` mean_squared_error`and the `r2_score` from `sklearn.metrics`."
      ]
    },
    {
      "cell_type": "code",
      "execution_count": null,
      "metadata": {
        "colab": {
          "base_uri": "https://localhost:8080/"
        },
        "id": "fg4yz3sFdFxR",
        "outputId": "24b03d6a-ba18-4e21-d8c1-92c4eba345f5"
      },
      "outputs": [],
      "source": []
    },
    {
      "cell_type": "markdown",
      "metadata": {},
      "source": [
        "The closest the R<sup>2</sup> value is to one, the more accurate is the model. The lower is the MSE value, the more accurate is the model.<br>\n",
        "In this case, the model performance are very good. This results are obtained on the test set, that are values that the model has never seen during the training."
      ]
    },
    {
      "cell_type": "markdown",
      "metadata": {},
      "source": [
        "Another way of visualizing the data, is through the parity plot. In this plot, the experimental value is reported on the x-axis, while the prediction for the same value is reported on the y-axis. The closer are the value to the line with slope 1, the more accurate our model is.<br>\n",
        "Moreover, in this kind of plot it is possible to graphically compare the performance on various sets (i.e., train and test sets).<p>\n",
        "The case in this exercise, takes into account two variables (K<sub>G</sub>a and eta), therefore we will have two parity plots.<br>\n",
        "The parity plot can be created using the library ``matplotlib``, however this is out of the scope of this exercise. For this reason, we have created a function to generate them included in the library ``utils.py`` included in this exercise. "
      ]
    },
    {
      "cell_type": "code",
      "execution_count": null,
      "metadata": {
        "colab": {
          "base_uri": "https://localhost:8080/",
          "height": 482
        },
        "id": "t59RO4jsdVJo",
        "outputId": "8caa24c4-5971-4b29-cde5-0fc266e32fcf"
      },
      "outputs": [],
      "source": []
    },
    {
      "cell_type": "markdown",
      "metadata": {},
      "source": [
        "Also the partity plots confirm that the model performance are quite accurate and not significant difference can be detected between train and test set."
      ]
    },
    {
      "cell_type": "markdown",
      "metadata": {
        "id": "XqedxNST414u"
      },
      "source": [
        "### Question 5: Design the column"
      ]
    },
    {
      "cell_type": "markdown",
      "metadata": {},
      "source": [
        "After the training of the model, it is time to use it.<br>\n",
        "The exercise asks us to design a column that is able to work with a gas having the following characteristics:\n",
        "* Gas flow rate: 20 000 m<sup>3</sup>/h\n",
        "* CO<sub>2</sub> partial pressure: 10 kPa\n",
        "* CO<sub>2</sub> loading in the absorption amine: 0.1 molCO<sub>2</sub>/molAmine"
      ]
    },
    {
      "cell_type": "markdown",
      "metadata": {},
      "source": [
        "To simplify the code, this exercise provides an optimization toolkit already embedding the function to be maximized and the optimization algorithm. They are contained in the class ``ModelWrapper``. Following, you can find more information them:\n",
        "* *Optimization function*: the ``ModelWrapper`` class aim minimizing the following function: $-K_Ga$. Therefore, the function aim the maximization of the K<sub>G</sub>a value. This is done because an high K<sub>G</sub>a translate in higher CO<sub>2</sub> transfer from the gas-phase to the liquid-phase. This means lower column volumes and much lower capital investment and operational costs.\n",
        "* *Optimization algorithm*:  the ``ModelWrapper`` class employs a [differential evolution algorithm](https://en.wikipedia.org/wiki/Differential_evolution)(DE) finilized by a [gradient-based optimization](https://en.wikipedia.org/wiki/Gradient_method) on the best identified particle. The DE algorithm employs many particle for the search of the optimum, this way the chance of getting the global optimum are higher."
      ]
    },
    {
      "cell_type": "markdown",
      "metadata": {},
      "source": [
        "Let's import all the needed function and let's add the constraint on the CO<sub>2</sub> partial pressure and the CO<sub>2</sub> loading within the liquid at the column inlet."
      ]
    },
    {
      "cell_type": "markdown",
      "metadata": {},
      "source": []
    }
  ],
  "metadata": {
    "colab": {
      "provenance": []
    },
    "kernelspec": {
      "display_name": "Python 3",
      "name": "python3"
    },
    "language_info": {
      "codemirror_mode": {
        "name": "ipython",
        "version": 3
      },
      "file_extension": ".py",
      "mimetype": "text/x-python",
      "name": "python",
      "nbconvert_exporter": "python",
      "pygments_lexer": "ipython3",
      "version": "3.12.2"
    }
  },
  "nbformat": 4,
  "nbformat_minor": 0
}
